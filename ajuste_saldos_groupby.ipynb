{
 "cells": [
  {
   "cell_type": "code",
   "execution_count": null,
   "metadata": {},
   "outputs": [],
   "source": [
    "from itertools import groupby\n",
    "import string\n",
    "import random\n",
    "\n",
    "\n",
    "\n",
    "def get_referencias(sku):\n",
    "\n",
    "    return str(sku['SKU'].strip())\n",
    "\n",
    "lista_dicts = []\n",
    "agrupa_produtos = groupby(dicts_elizabeth, get_referencias)\n",
    "for sku, saldos in agrupa_produtos:\n",
    "    listas = []\n",
    "    for saldo in saldos:\n",
    "        sku = saldo['SKU']\n",
    "        try:\n",
    "            saldo_produto = float(str(saldo['SALDO']).strip().replace(\".\",\"\").replace(\",\",\".\").replace(\"'\",\"\"))\n",
    "\n",
    "            listas.append(saldo_produto)\n",
    "        except:\n",
    "            listas.append(0)\n",
    "\n",
    "        cont = len(listas)\n",
    "        lista = []\n",
    "        if cont >1:\n",
    "            dict_items = {}\n",
    "            \n",
    "            new_saldo = round(sum(listas),2)\n",
    "            dict_items['SKU'] = sku\n",
    "            dict_items['SALDO'] = new_saldo\n",
    "            dict_items['IDMARCA'] = 14\n",
    "            \n",
    "\n",
    "            lista_dicts.append(dict_items)\n",
    "            \n",
    "        else:\n",
    "            dict_items = {}\n",
    "            dict_items['SKU'] = sku\n",
    "            dict_items['SALDO'] = listas[0]\n",
    "            dict_items['IDMARCA'] = 14\n",
    "            lista_dicts.append(dict_items)\n",
    "\n",
    "\n",
    "\n",
    "mylist_unique = [{'SKU': key, 'SALDO': max(item['SALDO'] for item in values)}\n",
    "\n",
    "                 for key, values in groupby(lista_dicts, lambda dct: dct['SKU'])]\n",
    "\n",
    "\n",
    "    \n",
    " \n",
    "mylist_unique\n",
    "       "
   ]
  }
 ],
 "metadata": {
  "kernelspec": {
   "display_name": "Python 3.8.9 64-bit",
   "language": "python",
   "name": "python3"
  },
  "language_info": {
   "name": "python",
   "version": "3.8.9"
  },
  "orig_nbformat": 4,
  "vscode": {
   "interpreter": {
    "hash": "13b308b7bc7b4ff555ac8296f09498b64a53cdabd9f036fc8cb47faf63bfe4a5"
   }
  }
 },
 "nbformat": 4,
 "nbformat_minor": 2
}
